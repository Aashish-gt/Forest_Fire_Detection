{
 "cells": [
  {
   "cell_type": "code",
   "execution_count": 35,
   "id": "9ae5e05b",
   "metadata": {},
   "outputs": [],
   "source": [
    "import numpy as np\n",
    "import tensorflow as tf\n",
    "from tensorflow.keras.models import Model\n",
    "from tensorflow.keras.layers import (Conv2D, MaxPooling2D, Dense,\n",
    "                                     Flatten, Dropout, BatchNormalization, Input)\n",
    "from tensorflow.keras.preprocessing.image import ImageDataGenerator\n",
    "from tensorflow.keras.callbacks import (EarlyStopping, ModelCheckpoint,\n",
    "                                        TensorBoard, ReduceLROnPlateau)\n",
    "from tensorflow.keras.regularizers import l2\n",
    "import matplotlib.pyplot as plt\n",
    "import seaborn as sns\n",
    "from sklearn.metrics import confusion_matrix, classification_report\n",
    "import datetime\n",
    "import os"
   ]
  },
  {
   "cell_type": "code",
   "execution_count": 36,
   "id": "e257386a",
   "metadata": {},
   "outputs": [],
   "source": [
    "base_dir = r'D:\\Projects\\Forest_Fire_Detection'\n",
    "input_dir = os.path.join(base_dir, 'Dataset', 'processed_data')  # Updated path\n",
    "output_dir = os.path.join(base_dir, 'training_output')\n",
    "\n",
    "os.makedirs(output_dir, exist_ok=True)"
   ]
  },
  {
   "cell_type": "code",
   "execution_count": 37,
   "id": "731d7ac7",
   "metadata": {},
   "outputs": [],
   "source": [
    "required_files = [\n",
    "    'X_train.npy',\n",
    "    'X_val.npy',\n",
    "    'y_train.npy',\n",
    "    'y_val.npy',\n",
    "    'class_weights.npy'\n",
    "]"
   ]
  },
  {
   "cell_type": "code",
   "execution_count": 38,
   "id": "280de72a",
   "metadata": {},
   "outputs": [
    {
     "name": "stdout",
     "output_type": "stream",
     "text": [
      "\n",
      "Loading preprocessed data...\n",
      "Data loaded successfully!\n",
      "X_train shape: (1559, 96, 96, 3)\n",
      "X_val shape: (390, 96, 96, 3)\n",
      "\n",
      "Class weights: {0: np.float64(0.9792713567839196), 1: np.float64(1.0216251638269986)}\n"
     ]
    }
   ],
   "source": [
    "print(\"\\nLoading preprocessed data...\")\n",
    "try:\n",
    "    X_train = np.load(os.path.join(input_dir, 'X_train.npy'))\n",
    "    X_val = np.load(os.path.join(input_dir, 'X_val.npy'))\n",
    "    y_train = np.load(os.path.join(input_dir, 'y_train.npy'))\n",
    "    y_val = np.load(os.path.join(input_dir, 'y_val.npy'))\n",
    "    class_weights = np.load(os.path.join(\n",
    "        input_dir, 'class_weights.npy'), allow_pickle=True).item()\n",
    "\n",
    "    print(\"Data loaded successfully!\")\n",
    "    print(f\"X_train shape: {X_train.shape}\")\n",
    "    print(f\"X_val shape: {X_val.shape}\")\n",
    "    print(\"\\nClass weights:\", class_weights)\n",
    "\n",
    "except Exception as e:\n",
    "    print(f\"Error loading numpy files: {str(e)}\")\n",
    "    raise"
   ]
  },
  {
   "cell_type": "code",
   "execution_count": 39,
   "id": "286a1910",
   "metadata": {},
   "outputs": [],
   "source": [
    "IMG_SIZE = (96, 96)\n",
    "BATCH_SIZE = 32\n",
    "EPOCHS = 50\n",
    "SEED = 42"
   ]
  },
  {
   "cell_type": "code",
   "execution_count": 40,
   "id": "91d5321a",
   "metadata": {},
   "outputs": [
    {
     "name": "stdout",
     "output_type": "stream",
     "text": [
      "\n",
      "Setting up data generators...\n"
     ]
    }
   ],
   "source": [
    "print(\"\\nSetting up data generators...\")\n",
    "train_datagen = ImageDataGenerator(\n",
    "    rotation_range=15,\n",
    "    zoom_range=0.1,\n",
    "    horizontal_flip=True,\n",
    "    brightness_range=[0.9, 1.1]\n",
    ")\n",
    "\n",
    "val_datagen = ImageDataGenerator()\n",
    "\n",
    "train_generator = train_datagen.flow(\n",
    "    X_train, y_train, batch_size=BATCH_SIZE, seed=SEED)\n",
    "val_generator = val_datagen.flow(\n",
    "    X_val, y_val, batch_size=BATCH_SIZE, seed=SEED)"
   ]
  },
  {
   "cell_type": "code",
   "execution_count": 41,
   "id": "4018cc16",
   "metadata": {},
   "outputs": [
    {
     "name": "stdout",
     "output_type": "stream",
     "text": [
      "\n",
      "Creating model...\n"
     ]
    },
    {
     "data": {
      "text/html": [
       "<pre style=\"white-space:pre;overflow-x:auto;line-height:normal;font-family:Menlo,'DejaVu Sans Mono',consolas,'Courier New',monospace\"><span style=\"font-weight: bold\">Model: \"functional_1\"</span>\n",
       "</pre>\n"
      ],
      "text/plain": [
       "\u001b[1mModel: \"functional_1\"\u001b[0m\n"
      ]
     },
     "metadata": {},
     "output_type": "display_data"
    },
    {
     "data": {
      "text/html": [
       "<pre style=\"white-space:pre;overflow-x:auto;line-height:normal;font-family:Menlo,'DejaVu Sans Mono',consolas,'Courier New',monospace\">┏━━━━━━━━━━━━━━━━━━━━━━━━━━━━━━━━━┳━━━━━━━━━━━━━━━━━━━━━━━━┳━━━━━━━━━━━━━━━┓\n",
       "┃<span style=\"font-weight: bold\"> Layer (type)                    </span>┃<span style=\"font-weight: bold\"> Output Shape           </span>┃<span style=\"font-weight: bold\">       Param # </span>┃\n",
       "┡━━━━━━━━━━━━━━━━━━━━━━━━━━━━━━━━━╇━━━━━━━━━━━━━━━━━━━━━━━━╇━━━━━━━━━━━━━━━┩\n",
       "│ input_layer_1 (<span style=\"color: #0087ff; text-decoration-color: #0087ff\">InputLayer</span>)      │ (<span style=\"color: #00d7ff; text-decoration-color: #00d7ff\">None</span>, <span style=\"color: #00af00; text-decoration-color: #00af00\">96</span>, <span style=\"color: #00af00; text-decoration-color: #00af00\">96</span>, <span style=\"color: #00af00; text-decoration-color: #00af00\">3</span>)      │             <span style=\"color: #00af00; text-decoration-color: #00af00\">0</span> │\n",
       "├─────────────────────────────────┼────────────────────────┼───────────────┤\n",
       "│ conv2d_3 (<span style=\"color: #0087ff; text-decoration-color: #0087ff\">Conv2D</span>)               │ (<span style=\"color: #00d7ff; text-decoration-color: #00d7ff\">None</span>, <span style=\"color: #00af00; text-decoration-color: #00af00\">96</span>, <span style=\"color: #00af00; text-decoration-color: #00af00\">96</span>, <span style=\"color: #00af00; text-decoration-color: #00af00\">8</span>)      │           <span style=\"color: #00af00; text-decoration-color: #00af00\">224</span> │\n",
       "├─────────────────────────────────┼────────────────────────┼───────────────┤\n",
       "│ batch_normalization_3           │ (<span style=\"color: #00d7ff; text-decoration-color: #00d7ff\">None</span>, <span style=\"color: #00af00; text-decoration-color: #00af00\">96</span>, <span style=\"color: #00af00; text-decoration-color: #00af00\">96</span>, <span style=\"color: #00af00; text-decoration-color: #00af00\">8</span>)      │            <span style=\"color: #00af00; text-decoration-color: #00af00\">32</span> │\n",
       "│ (<span style=\"color: #0087ff; text-decoration-color: #0087ff\">BatchNormalization</span>)            │                        │               │\n",
       "├─────────────────────────────────┼────────────────────────┼───────────────┤\n",
       "│ max_pooling2d_3 (<span style=\"color: #0087ff; text-decoration-color: #0087ff\">MaxPooling2D</span>)  │ (<span style=\"color: #00d7ff; text-decoration-color: #00d7ff\">None</span>, <span style=\"color: #00af00; text-decoration-color: #00af00\">48</span>, <span style=\"color: #00af00; text-decoration-color: #00af00\">48</span>, <span style=\"color: #00af00; text-decoration-color: #00af00\">8</span>)      │             <span style=\"color: #00af00; text-decoration-color: #00af00\">0</span> │\n",
       "├─────────────────────────────────┼────────────────────────┼───────────────┤\n",
       "│ conv2d_4 (<span style=\"color: #0087ff; text-decoration-color: #0087ff\">Conv2D</span>)               │ (<span style=\"color: #00d7ff; text-decoration-color: #00d7ff\">None</span>, <span style=\"color: #00af00; text-decoration-color: #00af00\">48</span>, <span style=\"color: #00af00; text-decoration-color: #00af00\">48</span>, <span style=\"color: #00af00; text-decoration-color: #00af00\">16</span>)     │         <span style=\"color: #00af00; text-decoration-color: #00af00\">1,168</span> │\n",
       "├─────────────────────────────────┼────────────────────────┼───────────────┤\n",
       "│ batch_normalization_4           │ (<span style=\"color: #00d7ff; text-decoration-color: #00d7ff\">None</span>, <span style=\"color: #00af00; text-decoration-color: #00af00\">48</span>, <span style=\"color: #00af00; text-decoration-color: #00af00\">48</span>, <span style=\"color: #00af00; text-decoration-color: #00af00\">16</span>)     │            <span style=\"color: #00af00; text-decoration-color: #00af00\">64</span> │\n",
       "│ (<span style=\"color: #0087ff; text-decoration-color: #0087ff\">BatchNormalization</span>)            │                        │               │\n",
       "├─────────────────────────────────┼────────────────────────┼───────────────┤\n",
       "│ max_pooling2d_4 (<span style=\"color: #0087ff; text-decoration-color: #0087ff\">MaxPooling2D</span>)  │ (<span style=\"color: #00d7ff; text-decoration-color: #00d7ff\">None</span>, <span style=\"color: #00af00; text-decoration-color: #00af00\">24</span>, <span style=\"color: #00af00; text-decoration-color: #00af00\">24</span>, <span style=\"color: #00af00; text-decoration-color: #00af00\">16</span>)     │             <span style=\"color: #00af00; text-decoration-color: #00af00\">0</span> │\n",
       "├─────────────────────────────────┼────────────────────────┼───────────────┤\n",
       "│ conv2d_5 (<span style=\"color: #0087ff; text-decoration-color: #0087ff\">Conv2D</span>)               │ (<span style=\"color: #00d7ff; text-decoration-color: #00d7ff\">None</span>, <span style=\"color: #00af00; text-decoration-color: #00af00\">24</span>, <span style=\"color: #00af00; text-decoration-color: #00af00\">24</span>, <span style=\"color: #00af00; text-decoration-color: #00af00\">32</span>)     │         <span style=\"color: #00af00; text-decoration-color: #00af00\">4,640</span> │\n",
       "├─────────────────────────────────┼────────────────────────┼───────────────┤\n",
       "│ batch_normalization_5           │ (<span style=\"color: #00d7ff; text-decoration-color: #00d7ff\">None</span>, <span style=\"color: #00af00; text-decoration-color: #00af00\">24</span>, <span style=\"color: #00af00; text-decoration-color: #00af00\">24</span>, <span style=\"color: #00af00; text-decoration-color: #00af00\">32</span>)     │           <span style=\"color: #00af00; text-decoration-color: #00af00\">128</span> │\n",
       "│ (<span style=\"color: #0087ff; text-decoration-color: #0087ff\">BatchNormalization</span>)            │                        │               │\n",
       "├─────────────────────────────────┼────────────────────────┼───────────────┤\n",
       "│ max_pooling2d_5 (<span style=\"color: #0087ff; text-decoration-color: #0087ff\">MaxPooling2D</span>)  │ (<span style=\"color: #00d7ff; text-decoration-color: #00d7ff\">None</span>, <span style=\"color: #00af00; text-decoration-color: #00af00\">12</span>, <span style=\"color: #00af00; text-decoration-color: #00af00\">12</span>, <span style=\"color: #00af00; text-decoration-color: #00af00\">32</span>)     │             <span style=\"color: #00af00; text-decoration-color: #00af00\">0</span> │\n",
       "├─────────────────────────────────┼────────────────────────┼───────────────┤\n",
       "│ flatten_1 (<span style=\"color: #0087ff; text-decoration-color: #0087ff\">Flatten</span>)             │ (<span style=\"color: #00d7ff; text-decoration-color: #00d7ff\">None</span>, <span style=\"color: #00af00; text-decoration-color: #00af00\">4608</span>)           │             <span style=\"color: #00af00; text-decoration-color: #00af00\">0</span> │\n",
       "├─────────────────────────────────┼────────────────────────┼───────────────┤\n",
       "│ dense_2 (<span style=\"color: #0087ff; text-decoration-color: #0087ff\">Dense</span>)                 │ (<span style=\"color: #00d7ff; text-decoration-color: #00d7ff\">None</span>, <span style=\"color: #00af00; text-decoration-color: #00af00\">32</span>)             │       <span style=\"color: #00af00; text-decoration-color: #00af00\">147,488</span> │\n",
       "├─────────────────────────────────┼────────────────────────┼───────────────┤\n",
       "│ dropout_1 (<span style=\"color: #0087ff; text-decoration-color: #0087ff\">Dropout</span>)             │ (<span style=\"color: #00d7ff; text-decoration-color: #00d7ff\">None</span>, <span style=\"color: #00af00; text-decoration-color: #00af00\">32</span>)             │             <span style=\"color: #00af00; text-decoration-color: #00af00\">0</span> │\n",
       "├─────────────────────────────────┼────────────────────────┼───────────────┤\n",
       "│ dense_3 (<span style=\"color: #0087ff; text-decoration-color: #0087ff\">Dense</span>)                 │ (<span style=\"color: #00d7ff; text-decoration-color: #00d7ff\">None</span>, <span style=\"color: #00af00; text-decoration-color: #00af00\">1</span>)              │            <span style=\"color: #00af00; text-decoration-color: #00af00\">33</span> │\n",
       "└─────────────────────────────────┴────────────────────────┴───────────────┘\n",
       "</pre>\n"
      ],
      "text/plain": [
       "┏━━━━━━━━━━━━━━━━━━━━━━━━━━━━━━━━━┳━━━━━━━━━━━━━━━━━━━━━━━━┳━━━━━━━━━━━━━━━┓\n",
       "┃\u001b[1m \u001b[0m\u001b[1mLayer (type)                   \u001b[0m\u001b[1m \u001b[0m┃\u001b[1m \u001b[0m\u001b[1mOutput Shape          \u001b[0m\u001b[1m \u001b[0m┃\u001b[1m \u001b[0m\u001b[1m      Param #\u001b[0m\u001b[1m \u001b[0m┃\n",
       "┡━━━━━━━━━━━━━━━━━━━━━━━━━━━━━━━━━╇━━━━━━━━━━━━━━━━━━━━━━━━╇━━━━━━━━━━━━━━━┩\n",
       "│ input_layer_1 (\u001b[38;5;33mInputLayer\u001b[0m)      │ (\u001b[38;5;45mNone\u001b[0m, \u001b[38;5;34m96\u001b[0m, \u001b[38;5;34m96\u001b[0m, \u001b[38;5;34m3\u001b[0m)      │             \u001b[38;5;34m0\u001b[0m │\n",
       "├─────────────────────────────────┼────────────────────────┼───────────────┤\n",
       "│ conv2d_3 (\u001b[38;5;33mConv2D\u001b[0m)               │ (\u001b[38;5;45mNone\u001b[0m, \u001b[38;5;34m96\u001b[0m, \u001b[38;5;34m96\u001b[0m, \u001b[38;5;34m8\u001b[0m)      │           \u001b[38;5;34m224\u001b[0m │\n",
       "├─────────────────────────────────┼────────────────────────┼───────────────┤\n",
       "│ batch_normalization_3           │ (\u001b[38;5;45mNone\u001b[0m, \u001b[38;5;34m96\u001b[0m, \u001b[38;5;34m96\u001b[0m, \u001b[38;5;34m8\u001b[0m)      │            \u001b[38;5;34m32\u001b[0m │\n",
       "│ (\u001b[38;5;33mBatchNormalization\u001b[0m)            │                        │               │\n",
       "├─────────────────────────────────┼────────────────────────┼───────────────┤\n",
       "│ max_pooling2d_3 (\u001b[38;5;33mMaxPooling2D\u001b[0m)  │ (\u001b[38;5;45mNone\u001b[0m, \u001b[38;5;34m48\u001b[0m, \u001b[38;5;34m48\u001b[0m, \u001b[38;5;34m8\u001b[0m)      │             \u001b[38;5;34m0\u001b[0m │\n",
       "├─────────────────────────────────┼────────────────────────┼───────────────┤\n",
       "│ conv2d_4 (\u001b[38;5;33mConv2D\u001b[0m)               │ (\u001b[38;5;45mNone\u001b[0m, \u001b[38;5;34m48\u001b[0m, \u001b[38;5;34m48\u001b[0m, \u001b[38;5;34m16\u001b[0m)     │         \u001b[38;5;34m1,168\u001b[0m │\n",
       "├─────────────────────────────────┼────────────────────────┼───────────────┤\n",
       "│ batch_normalization_4           │ (\u001b[38;5;45mNone\u001b[0m, \u001b[38;5;34m48\u001b[0m, \u001b[38;5;34m48\u001b[0m, \u001b[38;5;34m16\u001b[0m)     │            \u001b[38;5;34m64\u001b[0m │\n",
       "│ (\u001b[38;5;33mBatchNormalization\u001b[0m)            │                        │               │\n",
       "├─────────────────────────────────┼────────────────────────┼───────────────┤\n",
       "│ max_pooling2d_4 (\u001b[38;5;33mMaxPooling2D\u001b[0m)  │ (\u001b[38;5;45mNone\u001b[0m, \u001b[38;5;34m24\u001b[0m, \u001b[38;5;34m24\u001b[0m, \u001b[38;5;34m16\u001b[0m)     │             \u001b[38;5;34m0\u001b[0m │\n",
       "├─────────────────────────────────┼────────────────────────┼───────────────┤\n",
       "│ conv2d_5 (\u001b[38;5;33mConv2D\u001b[0m)               │ (\u001b[38;5;45mNone\u001b[0m, \u001b[38;5;34m24\u001b[0m, \u001b[38;5;34m24\u001b[0m, \u001b[38;5;34m32\u001b[0m)     │         \u001b[38;5;34m4,640\u001b[0m │\n",
       "├─────────────────────────────────┼────────────────────────┼───────────────┤\n",
       "│ batch_normalization_5           │ (\u001b[38;5;45mNone\u001b[0m, \u001b[38;5;34m24\u001b[0m, \u001b[38;5;34m24\u001b[0m, \u001b[38;5;34m32\u001b[0m)     │           \u001b[38;5;34m128\u001b[0m │\n",
       "│ (\u001b[38;5;33mBatchNormalization\u001b[0m)            │                        │               │\n",
       "├─────────────────────────────────┼────────────────────────┼───────────────┤\n",
       "│ max_pooling2d_5 (\u001b[38;5;33mMaxPooling2D\u001b[0m)  │ (\u001b[38;5;45mNone\u001b[0m, \u001b[38;5;34m12\u001b[0m, \u001b[38;5;34m12\u001b[0m, \u001b[38;5;34m32\u001b[0m)     │             \u001b[38;5;34m0\u001b[0m │\n",
       "├─────────────────────────────────┼────────────────────────┼───────────────┤\n",
       "│ flatten_1 (\u001b[38;5;33mFlatten\u001b[0m)             │ (\u001b[38;5;45mNone\u001b[0m, \u001b[38;5;34m4608\u001b[0m)           │             \u001b[38;5;34m0\u001b[0m │\n",
       "├─────────────────────────────────┼────────────────────────┼───────────────┤\n",
       "│ dense_2 (\u001b[38;5;33mDense\u001b[0m)                 │ (\u001b[38;5;45mNone\u001b[0m, \u001b[38;5;34m32\u001b[0m)             │       \u001b[38;5;34m147,488\u001b[0m │\n",
       "├─────────────────────────────────┼────────────────────────┼───────────────┤\n",
       "│ dropout_1 (\u001b[38;5;33mDropout\u001b[0m)             │ (\u001b[38;5;45mNone\u001b[0m, \u001b[38;5;34m32\u001b[0m)             │             \u001b[38;5;34m0\u001b[0m │\n",
       "├─────────────────────────────────┼────────────────────────┼───────────────┤\n",
       "│ dense_3 (\u001b[38;5;33mDense\u001b[0m)                 │ (\u001b[38;5;45mNone\u001b[0m, \u001b[38;5;34m1\u001b[0m)              │            \u001b[38;5;34m33\u001b[0m │\n",
       "└─────────────────────────────────┴────────────────────────┴───────────────┘\n"
      ]
     },
     "metadata": {},
     "output_type": "display_data"
    },
    {
     "data": {
      "text/html": [
       "<pre style=\"white-space:pre;overflow-x:auto;line-height:normal;font-family:Menlo,'DejaVu Sans Mono',consolas,'Courier New',monospace\"><span style=\"font-weight: bold\"> Total params: </span><span style=\"color: #00af00; text-decoration-color: #00af00\">153,777</span> (600.69 KB)\n",
       "</pre>\n"
      ],
      "text/plain": [
       "\u001b[1m Total params: \u001b[0m\u001b[38;5;34m153,777\u001b[0m (600.69 KB)\n"
      ]
     },
     "metadata": {},
     "output_type": "display_data"
    },
    {
     "data": {
      "text/html": [
       "<pre style=\"white-space:pre;overflow-x:auto;line-height:normal;font-family:Menlo,'DejaVu Sans Mono',consolas,'Courier New',monospace\"><span style=\"font-weight: bold\"> Trainable params: </span><span style=\"color: #00af00; text-decoration-color: #00af00\">153,665</span> (600.25 KB)\n",
       "</pre>\n"
      ],
      "text/plain": [
       "\u001b[1m Trainable params: \u001b[0m\u001b[38;5;34m153,665\u001b[0m (600.25 KB)\n"
      ]
     },
     "metadata": {},
     "output_type": "display_data"
    },
    {
     "data": {
      "text/html": [
       "<pre style=\"white-space:pre;overflow-x:auto;line-height:normal;font-family:Menlo,'DejaVu Sans Mono',consolas,'Courier New',monospace\"><span style=\"font-weight: bold\"> Non-trainable params: </span><span style=\"color: #00af00; text-decoration-color: #00af00\">112</span> (448.00 B)\n",
       "</pre>\n"
      ],
      "text/plain": [
       "\u001b[1m Non-trainable params: \u001b[0m\u001b[38;5;34m112\u001b[0m (448.00 B)\n"
      ]
     },
     "metadata": {},
     "output_type": "display_data"
    }
   ],
   "source": [
    "def create_tinyml_model():\n",
    "    inputs = Input(shape=(96, 96, 3))\n",
    "\n",
    "    # Layer 1\n",
    "    x = Conv2D(8, (3, 3), activation='relu', padding='same',\n",
    "               kernel_regularizer=l2(0.01))(inputs)\n",
    "    x = BatchNormalization()(x)\n",
    "    x = MaxPooling2D((2, 2))(x)\n",
    "\n",
    "    # Layer 2\n",
    "    x = Conv2D(16, (3, 3), activation='relu', padding='same',\n",
    "               kernel_regularizer=l2(0.01))(x)\n",
    "    x = BatchNormalization()(x)\n",
    "    x = MaxPooling2D((2, 2))(x)\n",
    "\n",
    "    # Layer 3\n",
    "    x = Conv2D(32, (3, 3), activation='relu', padding='same',\n",
    "               kernel_regularizer=l2(0.01))(x)\n",
    "    x = BatchNormalization()(x)\n",
    "    x = MaxPooling2D((2, 2))(x)\n",
    "\n",
    "    # Flatten and Dense layers\n",
    "    x = Flatten()(x)\n",
    "    x = Dense(32, activation='relu', kernel_regularizer=l2(0.01))(x)\n",
    "    x = Dropout(0.3)(x)\n",
    "    output = Dense(1, activation='sigmoid')(x)\n",
    "\n",
    "    model = Model(inputs=inputs, outputs=output)\n",
    "\n",
    "    model.compile(\n",
    "        optimizer=tf.keras.optimizers.Adam(learning_rate=1e-3),\n",
    "        loss='binary_crossentropy',\n",
    "        metrics=['accuracy', tf.keras.metrics.Precision(),\n",
    "                 tf.keras.metrics.Recall()]\n",
    "    )\n",
    "\n",
    "    return model\n",
    "\n",
    "\n",
    "print(\"\\nCreating model...\")\n",
    "model = create_tinyml_model()\n",
    "model.summary()"
   ]
  },
  {
   "cell_type": "code",
   "execution_count": 42,
   "id": "1e68ac5c",
   "metadata": {},
   "outputs": [],
   "source": [
    "log_dir = os.path.join(\n",
    "    output_dir, \"logs\", datetime.datetime.now().strftime(\"%Y%m%d-%H%M%S\"))\n",
    "callbacks = [\n",
    "    EarlyStopping(monitor='val_loss', patience=5,\n",
    "                  restore_best_weights=True, verbose=1),\n",
    "    ModelCheckpoint(os.path.join(output_dir, 'best_model.h5'),\n",
    "                    save_best_only=True, verbose=1),\n",
    "    ReduceLROnPlateau(monitor='val_loss', factor=0.2,\n",
    "                      patience=3, min_lr=1e-6, verbose=1),\n",
    "    TensorBoard(log_dir=log_dir, histogram_freq=1)\n",
    "]"
   ]
  },
  {
   "cell_type": "code",
   "execution_count": 43,
   "id": "b778018f",
   "metadata": {},
   "outputs": [
    {
     "name": "stdout",
     "output_type": "stream",
     "text": [
      "\n",
      "Starting training...\n"
     ]
    },
    {
     "name": "stderr",
     "output_type": "stream",
     "text": [
      "d:\\Projects\\Forest_Fire_Detection\\myenv\\Lib\\site-packages\\keras\\src\\trainers\\data_adapters\\py_dataset_adapter.py:121: UserWarning: Your `PyDataset` class should call `super().__init__(**kwargs)` in its constructor. `**kwargs` can include `workers`, `use_multiprocessing`, `max_queue_size`. Do not pass these arguments to `fit()`, as they will be ignored.\n",
      "  self._warn_if_super_not_called()\n"
     ]
    },
    {
     "name": "stdout",
     "output_type": "stream",
     "text": [
      "Epoch 1/50\n",
      "\u001b[1m49/49\u001b[0m \u001b[32m━━━━━━━━━━━━━━━━━━━━\u001b[0m\u001b[37m\u001b[0m \u001b[1m0s\u001b[0m 193ms/step - accuracy: 0.8431 - loss: 1.3913 - precision_1: 0.8267 - recall_1: 0.8287\n",
      "Epoch 1: val_loss improved from inf to 2.09727, saving model to D:\\Projects\\Forest_Fire_Detection\\training_output\\best_model.h5\n"
     ]
    },
    {
     "name": "stderr",
     "output_type": "stream",
     "text": [
      "WARNING:absl:You are saving your model as an HDF5 file via `model.save()` or `keras.saving.save_model(model)`. This file format is considered legacy. We recommend using instead the native Keras format, e.g. `model.save('my_model.keras')` or `keras.saving.save_model(model, 'my_model.keras')`. \n"
     ]
    },
    {
     "name": "stdout",
     "output_type": "stream",
     "text": [
      "\u001b[1m49/49\u001b[0m \u001b[32m━━━━━━━━━━━━━━━━━━━━\u001b[0m\u001b[37m\u001b[0m \u001b[1m23s\u001b[0m 244ms/step - accuracy: 0.8439 - loss: 1.3884 - precision_1: 0.8278 - recall_1: 0.8299 - val_accuracy: 0.5154 - val_loss: 2.0973 - val_precision_1: 0.5026 - val_recall_1: 1.0000 - learning_rate: 0.0010\n",
      "Epoch 2/50\n",
      "\u001b[1m49/49\u001b[0m \u001b[32m━━━━━━━━━━━━━━━━━━━━\u001b[0m\u001b[37m\u001b[0m \u001b[1m0s\u001b[0m 226ms/step - accuracy: 0.9191 - loss: 1.0426 - precision_1: 0.8996 - recall_1: 0.9285\n",
      "Epoch 2: val_loss did not improve from 2.09727\n",
      "\u001b[1m49/49\u001b[0m \u001b[32m━━━━━━━━━━━━━━━━━━━━\u001b[0m\u001b[37m\u001b[0m \u001b[1m12s\u001b[0m 242ms/step - accuracy: 0.9192 - loss: 1.0416 - precision_1: 0.8999 - recall_1: 0.9285 - val_accuracy: 0.4974 - val_loss: 2.6730 - val_precision_1: 0.4935 - val_recall_1: 1.0000 - learning_rate: 0.0010\n",
      "Epoch 3/50\n",
      "\u001b[1m49/49\u001b[0m \u001b[32m━━━━━━━━━━━━━━━━━━━━\u001b[0m\u001b[37m\u001b[0m \u001b[1m0s\u001b[0m 227ms/step - accuracy: 0.9287 - loss: 0.8692 - precision_1: 0.9117 - recall_1: 0.9421\n",
      "Epoch 3: val_loss did not improve from 2.09727\n",
      "\u001b[1m49/49\u001b[0m \u001b[32m━━━━━━━━━━━━━━━━━━━━\u001b[0m\u001b[37m\u001b[0m \u001b[1m12s\u001b[0m 252ms/step - accuracy: 0.9287 - loss: 0.8686 - precision_1: 0.9118 - recall_1: 0.9419 - val_accuracy: 0.5282 - val_loss: 2.1801 - val_precision_1: 0.5093 - val_recall_1: 1.0000 - learning_rate: 0.0010\n",
      "Epoch 4/50\n",
      "\u001b[1m49/49\u001b[0m \u001b[32m━━━━━━━━━━━━━━━━━━━━\u001b[0m\u001b[37m\u001b[0m \u001b[1m0s\u001b[0m 297ms/step - accuracy: 0.9284 - loss: 0.7896 - precision_1: 0.9250 - recall_1: 0.9311\n",
      "Epoch 4: val_loss improved from 2.09727 to 1.30700, saving model to D:\\Projects\\Forest_Fire_Detection\\training_output\\best_model.h5\n"
     ]
    },
    {
     "name": "stderr",
     "output_type": "stream",
     "text": [
      "WARNING:absl:You are saving your model as an HDF5 file via `model.save()` or `keras.saving.save_model(model)`. This file format is considered legacy. We recommend using instead the native Keras format, e.g. `model.save('my_model.keras')` or `keras.saving.save_model(model, 'my_model.keras')`. \n"
     ]
    },
    {
     "name": "stdout",
     "output_type": "stream",
     "text": [
      "\u001b[1m49/49\u001b[0m \u001b[32m━━━━━━━━━━━━━━━━━━━━\u001b[0m\u001b[37m\u001b[0m \u001b[1m16s\u001b[0m 316ms/step - accuracy: 0.9285 - loss: 0.7887 - precision_1: 0.9250 - recall_1: 0.9313 - val_accuracy: 0.7462 - val_loss: 1.3070 - val_precision_1: 0.6597 - val_recall_1: 0.9948 - learning_rate: 0.0010\n",
      "Epoch 5/50\n",
      "\u001b[1m49/49\u001b[0m \u001b[32m━━━━━━━━━━━━━━━━━━━━\u001b[0m\u001b[37m\u001b[0m \u001b[1m0s\u001b[0m 243ms/step - accuracy: 0.9371 - loss: 0.6914 - precision_1: 0.9403 - recall_1: 0.9358\n",
      "Epoch 5: val_loss improved from 1.30700 to 0.69598, saving model to D:\\Projects\\Forest_Fire_Detection\\training_output\\best_model.h5\n"
     ]
    },
    {
     "name": "stderr",
     "output_type": "stream",
     "text": [
      "WARNING:absl:You are saving your model as an HDF5 file via `model.save()` or `keras.saving.save_model(model)`. This file format is considered legacy. We recommend using instead the native Keras format, e.g. `model.save('my_model.keras')` or `keras.saving.save_model(model, 'my_model.keras')`. \n"
     ]
    },
    {
     "name": "stdout",
     "output_type": "stream",
     "text": [
      "\u001b[1m49/49\u001b[0m \u001b[32m━━━━━━━━━━━━━━━━━━━━\u001b[0m\u001b[37m\u001b[0m \u001b[1m13s\u001b[0m 262ms/step - accuracy: 0.9370 - loss: 0.6912 - precision_1: 0.9399 - recall_1: 0.9359 - val_accuracy: 0.9000 - val_loss: 0.6960 - val_precision_1: 0.8878 - val_recall_1: 0.9110 - learning_rate: 0.0010\n",
      "Epoch 6/50\n",
      "\u001b[1m49/49\u001b[0m \u001b[32m━━━━━━━━━━━━━━━━━━━━\u001b[0m\u001b[37m\u001b[0m \u001b[1m0s\u001b[0m 296ms/step - accuracy: 0.9387 - loss: 0.6100 - precision_1: 0.9238 - recall_1: 0.9541\n",
      "Epoch 6: val_loss improved from 0.69598 to 0.59820, saving model to D:\\Projects\\Forest_Fire_Detection\\training_output\\best_model.h5\n"
     ]
    },
    {
     "name": "stderr",
     "output_type": "stream",
     "text": [
      "WARNING:absl:You are saving your model as an HDF5 file via `model.save()` or `keras.saving.save_model(model)`. This file format is considered legacy. We recommend using instead the native Keras format, e.g. `model.save('my_model.keras')` or `keras.saving.save_model(model, 'my_model.keras')`. \n"
     ]
    },
    {
     "name": "stdout",
     "output_type": "stream",
     "text": [
      "\u001b[1m49/49\u001b[0m \u001b[32m━━━━━━━━━━━━━━━━━━━━\u001b[0m\u001b[37m\u001b[0m \u001b[1m16s\u001b[0m 321ms/step - accuracy: 0.9386 - loss: 0.6101 - precision_1: 0.9238 - recall_1: 0.9539 - val_accuracy: 0.9462 - val_loss: 0.5982 - val_precision_1: 0.9087 - val_recall_1: 0.9895 - learning_rate: 0.0010\n",
      "Epoch 7/50\n",
      "\u001b[1m49/49\u001b[0m \u001b[32m━━━━━━━━━━━━━━━━━━━━\u001b[0m\u001b[37m\u001b[0m \u001b[1m0s\u001b[0m 228ms/step - accuracy: 0.9395 - loss: 0.5846 - precision_1: 0.9355 - recall_1: 0.9432\n",
      "Epoch 7: val_loss improved from 0.59820 to 0.50932, saving model to D:\\Projects\\Forest_Fire_Detection\\training_output\\best_model.h5\n"
     ]
    },
    {
     "name": "stderr",
     "output_type": "stream",
     "text": [
      "WARNING:absl:You are saving your model as an HDF5 file via `model.save()` or `keras.saving.save_model(model)`. This file format is considered legacy. We recommend using instead the native Keras format, e.g. `model.save('my_model.keras')` or `keras.saving.save_model(model, 'my_model.keras')`. \n"
     ]
    },
    {
     "name": "stdout",
     "output_type": "stream",
     "text": [
      "\u001b[1m49/49\u001b[0m \u001b[32m━━━━━━━━━━━━━━━━━━━━\u001b[0m\u001b[37m\u001b[0m \u001b[1m12s\u001b[0m 249ms/step - accuracy: 0.9395 - loss: 0.5841 - precision_1: 0.9354 - recall_1: 0.9433 - val_accuracy: 0.9590 - val_loss: 0.5093 - val_precision_1: 0.9581 - val_recall_1: 0.9581 - learning_rate: 0.0010\n",
      "Epoch 8/50\n",
      "\u001b[1m49/49\u001b[0m \u001b[32m━━━━━━━━━━━━━━━━━━━━\u001b[0m\u001b[37m\u001b[0m \u001b[1m0s\u001b[0m 268ms/step - accuracy: 0.9550 - loss: 0.5162 - precision_1: 0.9578 - recall_1: 0.9523\n",
      "Epoch 8: val_loss did not improve from 0.50932\n",
      "\u001b[1m49/49\u001b[0m \u001b[32m━━━━━━━━━━━━━━━━━━━━\u001b[0m\u001b[37m\u001b[0m \u001b[1m14s\u001b[0m 285ms/step - accuracy: 0.9548 - loss: 0.5162 - precision_1: 0.9575 - recall_1: 0.9523 - val_accuracy: 0.9436 - val_loss: 0.5257 - val_precision_1: 0.9471 - val_recall_1: 0.9372 - learning_rate: 0.0010\n",
      "Epoch 9/50\n",
      "\u001b[1m49/49\u001b[0m \u001b[32m━━━━━━━━━━━━━━━━━━━━\u001b[0m\u001b[37m\u001b[0m \u001b[1m0s\u001b[0m 300ms/step - accuracy: 0.9590 - loss: 0.4589 - precision_1: 0.9492 - recall_1: 0.9708\n",
      "Epoch 9: val_loss improved from 0.50932 to 0.46753, saving model to D:\\Projects\\Forest_Fire_Detection\\training_output\\best_model.h5\n"
     ]
    },
    {
     "name": "stderr",
     "output_type": "stream",
     "text": [
      "WARNING:absl:You are saving your model as an HDF5 file via `model.save()` or `keras.saving.save_model(model)`. This file format is considered legacy. We recommend using instead the native Keras format, e.g. `model.save('my_model.keras')` or `keras.saving.save_model(model, 'my_model.keras')`. \n"
     ]
    },
    {
     "name": "stdout",
     "output_type": "stream",
     "text": [
      "\u001b[1m49/49\u001b[0m \u001b[32m━━━━━━━━━━━━━━━━━━━━\u001b[0m\u001b[37m\u001b[0m \u001b[1m16s\u001b[0m 320ms/step - accuracy: 0.9589 - loss: 0.4590 - precision_1: 0.9492 - recall_1: 0.9707 - val_accuracy: 0.9436 - val_loss: 0.4675 - val_precision_1: 0.9774 - val_recall_1: 0.9058 - learning_rate: 0.0010\n",
      "Epoch 10/50\n",
      "\u001b[1m49/49\u001b[0m \u001b[32m━━━━━━━━━━━━━━━━━━━━\u001b[0m\u001b[37m\u001b[0m \u001b[1m0s\u001b[0m 248ms/step - accuracy: 0.9491 - loss: 0.4488 - precision_1: 0.9516 - recall_1: 0.9404\n",
      "Epoch 10: val_loss improved from 0.46753 to 0.42920, saving model to D:\\Projects\\Forest_Fire_Detection\\training_output\\best_model.h5\n"
     ]
    },
    {
     "name": "stderr",
     "output_type": "stream",
     "text": [
      "WARNING:absl:You are saving your model as an HDF5 file via `model.save()` or `keras.saving.save_model(model)`. This file format is considered legacy. We recommend using instead the native Keras format, e.g. `model.save('my_model.keras')` or `keras.saving.save_model(model, 'my_model.keras')`. \n"
     ]
    },
    {
     "name": "stdout",
     "output_type": "stream",
     "text": [
      "\u001b[1m49/49\u001b[0m \u001b[32m━━━━━━━━━━━━━━━━━━━━\u001b[0m\u001b[37m\u001b[0m \u001b[1m13s\u001b[0m 265ms/step - accuracy: 0.9491 - loss: 0.4486 - precision_1: 0.9515 - recall_1: 0.9406 - val_accuracy: 0.9487 - val_loss: 0.4292 - val_precision_1: 0.9831 - val_recall_1: 0.9110 - learning_rate: 0.0010\n",
      "Epoch 11/50\n",
      "\u001b[1m49/49\u001b[0m \u001b[32m━━━━━━━━━━━━━━━━━━━━\u001b[0m\u001b[37m\u001b[0m \u001b[1m0s\u001b[0m 215ms/step - accuracy: 0.9423 - loss: 0.4344 - precision_1: 0.9329 - recall_1: 0.9490\n",
      "Epoch 11: val_loss improved from 0.42920 to 0.36262, saving model to D:\\Projects\\Forest_Fire_Detection\\training_output\\best_model.h5\n"
     ]
    },
    {
     "name": "stderr",
     "output_type": "stream",
     "text": [
      "WARNING:absl:You are saving your model as an HDF5 file via `model.save()` or `keras.saving.save_model(model)`. This file format is considered legacy. We recommend using instead the native Keras format, e.g. `model.save('my_model.keras')` or `keras.saving.save_model(model, 'my_model.keras')`. \n"
     ]
    },
    {
     "name": "stdout",
     "output_type": "stream",
     "text": [
      "\u001b[1m49/49\u001b[0m \u001b[32m━━━━━━━━━━━━━━━━━━━━\u001b[0m\u001b[37m\u001b[0m \u001b[1m12s\u001b[0m 236ms/step - accuracy: 0.9424 - loss: 0.4340 - precision_1: 0.9330 - recall_1: 0.9490 - val_accuracy: 0.9718 - val_loss: 0.3626 - val_precision_1: 0.9737 - val_recall_1: 0.9686 - learning_rate: 0.0010\n",
      "Epoch 12/50\n",
      "\u001b[1m49/49\u001b[0m \u001b[32m━━━━━━━━━━━━━━━━━━━━\u001b[0m\u001b[37m\u001b[0m \u001b[1m0s\u001b[0m 227ms/step - accuracy: 0.9464 - loss: 0.4027 - precision_1: 0.9423 - recall_1: 0.9535\n",
      "Epoch 12: val_loss did not improve from 0.36262\n",
      "\u001b[1m49/49\u001b[0m \u001b[32m━━━━━━━━━━━━━━━━━━━━\u001b[0m\u001b[37m\u001b[0m \u001b[1m12s\u001b[0m 244ms/step - accuracy: 0.9465 - loss: 0.4025 - precision_1: 0.9423 - recall_1: 0.9535 - val_accuracy: 0.9564 - val_loss: 0.3761 - val_precision_1: 0.9677 - val_recall_1: 0.9424 - learning_rate: 0.0010\n",
      "Epoch 13/50\n",
      "\u001b[1m49/49\u001b[0m \u001b[32m━━━━━━━━━━━━━━━━━━━━\u001b[0m\u001b[37m\u001b[0m \u001b[1m0s\u001b[0m 215ms/step - accuracy: 0.9519 - loss: 0.3843 - precision_1: 0.9476 - recall_1: 0.9512\n",
      "Epoch 13: val_loss did not improve from 0.36262\n",
      "\u001b[1m49/49\u001b[0m \u001b[32m━━━━━━━━━━━━━━━━━━━━\u001b[0m\u001b[37m\u001b[0m \u001b[1m11s\u001b[0m 229ms/step - accuracy: 0.9518 - loss: 0.3843 - precision_1: 0.9476 - recall_1: 0.9512 - val_accuracy: 0.9641 - val_loss: 0.3648 - val_precision_1: 0.9492 - val_recall_1: 0.9791 - learning_rate: 0.0010\n",
      "Epoch 14/50\n",
      "\u001b[1m49/49\u001b[0m \u001b[32m━━━━━━━━━━━━━━━━━━━━\u001b[0m\u001b[37m\u001b[0m \u001b[1m0s\u001b[0m 220ms/step - accuracy: 0.9550 - loss: 0.3634 - precision_1: 0.9427 - recall_1: 0.9648\n",
      "Epoch 14: val_loss improved from 0.36262 to 0.34105, saving model to D:\\Projects\\Forest_Fire_Detection\\training_output\\best_model.h5\n"
     ]
    },
    {
     "name": "stderr",
     "output_type": "stream",
     "text": [
      "WARNING:absl:You are saving your model as an HDF5 file via `model.save()` or `keras.saving.save_model(model)`. This file format is considered legacy. We recommend using instead the native Keras format, e.g. `model.save('my_model.keras')` or `keras.saving.save_model(model, 'my_model.keras')`. \n"
     ]
    },
    {
     "name": "stdout",
     "output_type": "stream",
     "text": [
      "\u001b[1m49/49\u001b[0m \u001b[32m━━━━━━━━━━━━━━━━━━━━\u001b[0m\u001b[37m\u001b[0m \u001b[1m12s\u001b[0m 239ms/step - accuracy: 0.9550 - loss: 0.3634 - precision_1: 0.9427 - recall_1: 0.9647 - val_accuracy: 0.9744 - val_loss: 0.3411 - val_precision_1: 0.9892 - val_recall_1: 0.9581 - learning_rate: 0.0010\n",
      "Epoch 15/50\n",
      "\u001b[1m49/49\u001b[0m \u001b[32m━━━━━━━━━━━━━━━━━━━━\u001b[0m\u001b[37m\u001b[0m \u001b[1m0s\u001b[0m 223ms/step - accuracy: 0.9565 - loss: 0.3454 - precision_1: 0.9370 - recall_1: 0.9665\n",
      "Epoch 15: val_loss improved from 0.34105 to 0.32957, saving model to D:\\Projects\\Forest_Fire_Detection\\training_output\\best_model.h5\n"
     ]
    },
    {
     "name": "stderr",
     "output_type": "stream",
     "text": [
      "WARNING:absl:You are saving your model as an HDF5 file via `model.save()` or `keras.saving.save_model(model)`. This file format is considered legacy. We recommend using instead the native Keras format, e.g. `model.save('my_model.keras')` or `keras.saving.save_model(model, 'my_model.keras')`. \n"
     ]
    },
    {
     "name": "stdout",
     "output_type": "stream",
     "text": [
      "\u001b[1m49/49\u001b[0m \u001b[32m━━━━━━━━━━━━━━━━━━━━\u001b[0m\u001b[37m\u001b[0m \u001b[1m12s\u001b[0m 239ms/step - accuracy: 0.9566 - loss: 0.3454 - precision_1: 0.9373 - recall_1: 0.9664 - val_accuracy: 0.9615 - val_loss: 0.3296 - val_precision_1: 0.9681 - val_recall_1: 0.9529 - learning_rate: 0.0010\n",
      "Epoch 16/50\n",
      "\u001b[1m49/49\u001b[0m \u001b[32m━━━━━━━━━━━━━━━━━━━━\u001b[0m\u001b[37m\u001b[0m \u001b[1m0s\u001b[0m 208ms/step - accuracy: 0.9545 - loss: 0.3419 - precision_1: 0.9402 - recall_1: 0.9683\n",
      "Epoch 16: val_loss improved from 0.32957 to 0.30251, saving model to D:\\Projects\\Forest_Fire_Detection\\training_output\\best_model.h5\n"
     ]
    },
    {
     "name": "stderr",
     "output_type": "stream",
     "text": [
      "WARNING:absl:You are saving your model as an HDF5 file via `model.save()` or `keras.saving.save_model(model)`. This file format is considered legacy. We recommend using instead the native Keras format, e.g. `model.save('my_model.keras')` or `keras.saving.save_model(model, 'my_model.keras')`. \n"
     ]
    },
    {
     "name": "stdout",
     "output_type": "stream",
     "text": [
      "\u001b[1m49/49\u001b[0m \u001b[32m━━━━━━━━━━━━━━━━━━━━\u001b[0m\u001b[37m\u001b[0m \u001b[1m11s\u001b[0m 227ms/step - accuracy: 0.9545 - loss: 0.3418 - precision_1: 0.9403 - recall_1: 0.9682 - val_accuracy: 0.9692 - val_loss: 0.3025 - val_precision_1: 0.9637 - val_recall_1: 0.9738 - learning_rate: 0.0010\n",
      "Epoch 17/50\n",
      "\u001b[1m49/49\u001b[0m \u001b[32m━━━━━━━━━━━━━━━━━━━━\u001b[0m\u001b[37m\u001b[0m \u001b[1m0s\u001b[0m 223ms/step - accuracy: 0.9631 - loss: 0.3151 - precision_1: 0.9539 - recall_1: 0.9720\n",
      "Epoch 17: val_loss improved from 0.30251 to 0.28648, saving model to D:\\Projects\\Forest_Fire_Detection\\training_output\\best_model.h5\n"
     ]
    },
    {
     "name": "stderr",
     "output_type": "stream",
     "text": [
      "WARNING:absl:You are saving your model as an HDF5 file via `model.save()` or `keras.saving.save_model(model)`. This file format is considered legacy. We recommend using instead the native Keras format, e.g. `model.save('my_model.keras')` or `keras.saving.save_model(model, 'my_model.keras')`. \n"
     ]
    },
    {
     "name": "stdout",
     "output_type": "stream",
     "text": [
      "\u001b[1m49/49\u001b[0m \u001b[32m━━━━━━━━━━━━━━━━━━━━\u001b[0m\u001b[37m\u001b[0m \u001b[1m12s\u001b[0m 244ms/step - accuracy: 0.9631 - loss: 0.3150 - precision_1: 0.9540 - recall_1: 0.9720 - val_accuracy: 0.9692 - val_loss: 0.2865 - val_precision_1: 0.9838 - val_recall_1: 0.9529 - learning_rate: 0.0010\n",
      "Epoch 18/50\n",
      "\u001b[1m49/49\u001b[0m \u001b[32m━━━━━━━━━━━━━━━━━━━━\u001b[0m\u001b[37m\u001b[0m \u001b[1m0s\u001b[0m 222ms/step - accuracy: 0.9624 - loss: 0.2980 - precision_1: 0.9549 - recall_1: 0.9692\n",
      "Epoch 18: val_loss did not improve from 0.28648\n",
      "\u001b[1m49/49\u001b[0m \u001b[32m━━━━━━━━━━━━━━━━━━━━\u001b[0m\u001b[37m\u001b[0m \u001b[1m12s\u001b[0m 237ms/step - accuracy: 0.9623 - loss: 0.2983 - precision_1: 0.9548 - recall_1: 0.9691 - val_accuracy: 0.9641 - val_loss: 0.3050 - val_precision_1: 0.9634 - val_recall_1: 0.9634 - learning_rate: 0.0010\n",
      "Epoch 19/50\n",
      "\u001b[1m49/49\u001b[0m \u001b[32m━━━━━━━━━━━━━━━━━━━━\u001b[0m\u001b[37m\u001b[0m \u001b[1m0s\u001b[0m 220ms/step - accuracy: 0.9679 - loss: 0.2961 - precision_1: 0.9629 - recall_1: 0.9716\n",
      "Epoch 19: val_loss improved from 0.28648 to 0.28614, saving model to D:\\Projects\\Forest_Fire_Detection\\training_output\\best_model.h5\n"
     ]
    },
    {
     "name": "stderr",
     "output_type": "stream",
     "text": [
      "WARNING:absl:You are saving your model as an HDF5 file via `model.save()` or `keras.saving.save_model(model)`. This file format is considered legacy. We recommend using instead the native Keras format, e.g. `model.save('my_model.keras')` or `keras.saving.save_model(model, 'my_model.keras')`. \n"
     ]
    },
    {
     "name": "stdout",
     "output_type": "stream",
     "text": [
      "\u001b[1m49/49\u001b[0m \u001b[32m━━━━━━━━━━━━━━━━━━━━\u001b[0m\u001b[37m\u001b[0m \u001b[1m12s\u001b[0m 235ms/step - accuracy: 0.9677 - loss: 0.2963 - precision_1: 0.9627 - recall_1: 0.9716 - val_accuracy: 0.9692 - val_loss: 0.2861 - val_precision_1: 0.9735 - val_recall_1: 0.9634 - learning_rate: 0.0010\n",
      "Epoch 20/50\n",
      "\u001b[1m49/49\u001b[0m \u001b[32m━━━━━━━━━━━━━━━━━━━━\u001b[0m\u001b[37m\u001b[0m \u001b[1m0s\u001b[0m 211ms/step - accuracy: 0.9670 - loss: 0.2888 - precision_1: 0.9686 - recall_1: 0.9632\n",
      "Epoch 20: val_loss improved from 0.28614 to 0.26467, saving model to D:\\Projects\\Forest_Fire_Detection\\training_output\\best_model.h5\n"
     ]
    },
    {
     "name": "stderr",
     "output_type": "stream",
     "text": [
      "WARNING:absl:You are saving your model as an HDF5 file via `model.save()` or `keras.saving.save_model(model)`. This file format is considered legacy. We recommend using instead the native Keras format, e.g. `model.save('my_model.keras')` or `keras.saving.save_model(model, 'my_model.keras')`. \n"
     ]
    },
    {
     "name": "stdout",
     "output_type": "stream",
     "text": [
      "\u001b[1m49/49\u001b[0m \u001b[32m━━━━━━━━━━━━━━━━━━━━\u001b[0m\u001b[37m\u001b[0m \u001b[1m11s\u001b[0m 229ms/step - accuracy: 0.9670 - loss: 0.2886 - precision_1: 0.9686 - recall_1: 0.9634 - val_accuracy: 0.9718 - val_loss: 0.2647 - val_precision_1: 0.9787 - val_recall_1: 0.9634 - learning_rate: 0.0010\n",
      "Epoch 21/50\n",
      "\u001b[1m49/49\u001b[0m \u001b[32m━━━━━━━━━━━━━━━━━━━━\u001b[0m\u001b[37m\u001b[0m \u001b[1m0s\u001b[0m 228ms/step - accuracy: 0.9661 - loss: 0.2689 - precision_1: 0.9553 - recall_1: 0.9786\n",
      "Epoch 21: val_loss did not improve from 0.26467\n",
      "\u001b[1m49/49\u001b[0m \u001b[32m━━━━━━━━━━━━━━━━━━━━\u001b[0m\u001b[37m\u001b[0m \u001b[1m12s\u001b[0m 242ms/step - accuracy: 0.9661 - loss: 0.2689 - precision_1: 0.9553 - recall_1: 0.9786 - val_accuracy: 0.9641 - val_loss: 0.2961 - val_precision_1: 0.9890 - val_recall_1: 0.9372 - learning_rate: 0.0010\n",
      "Epoch 22/50\n",
      "\u001b[1m49/49\u001b[0m \u001b[32m━━━━━━━━━━━━━━━━━━━━\u001b[0m\u001b[37m\u001b[0m \u001b[1m0s\u001b[0m 223ms/step - accuracy: 0.9671 - loss: 0.2828 - precision_1: 0.9650 - recall_1: 0.9705\n",
      "Epoch 22: val_loss did not improve from 0.26467\n",
      "\u001b[1m49/49\u001b[0m \u001b[32m━━━━━━━━━━━━━━━━━━━━\u001b[0m\u001b[37m\u001b[0m \u001b[1m12s\u001b[0m 244ms/step - accuracy: 0.9671 - loss: 0.2829 - precision_1: 0.9649 - recall_1: 0.9705 - val_accuracy: 0.9436 - val_loss: 0.3137 - val_precision_1: 0.9829 - val_recall_1: 0.9005 - learning_rate: 0.0010\n",
      "Epoch 23/50\n",
      "\u001b[1m49/49\u001b[0m \u001b[32m━━━━━━━━━━━━━━━━━━━━\u001b[0m\u001b[37m\u001b[0m \u001b[1m0s\u001b[0m 227ms/step - accuracy: 0.9676 - loss: 0.2641 - precision_1: 0.9669 - recall_1: 0.9671\n",
      "Epoch 23: val_loss did not improve from 0.26467\n",
      "\n",
      "Epoch 23: ReduceLROnPlateau reducing learning rate to 0.00020000000949949026.\n",
      "\u001b[1m49/49\u001b[0m \u001b[32m━━━━━━━━━━━━━━━━━━━━\u001b[0m\u001b[37m\u001b[0m \u001b[1m12s\u001b[0m 241ms/step - accuracy: 0.9676 - loss: 0.2641 - precision_1: 0.9668 - recall_1: 0.9673 - val_accuracy: 0.9026 - val_loss: 0.4564 - val_precision_1: 0.9636 - val_recall_1: 0.8325 - learning_rate: 0.0010\n",
      "Epoch 24/50\n",
      "\u001b[1m49/49\u001b[0m \u001b[32m━━━━━━━━━━━━━━━━━━━━\u001b[0m\u001b[37m\u001b[0m \u001b[1m0s\u001b[0m 221ms/step - accuracy: 0.9694 - loss: 0.2729 - precision_1: 0.9558 - recall_1: 0.9822\n",
      "Epoch 24: val_loss improved from 0.26467 to 0.24971, saving model to D:\\Projects\\Forest_Fire_Detection\\training_output\\best_model.h5\n"
     ]
    },
    {
     "name": "stderr",
     "output_type": "stream",
     "text": [
      "WARNING:absl:You are saving your model as an HDF5 file via `model.save()` or `keras.saving.save_model(model)`. This file format is considered legacy. We recommend using instead the native Keras format, e.g. `model.save('my_model.keras')` or `keras.saving.save_model(model, 'my_model.keras')`. \n"
     ]
    },
    {
     "name": "stdout",
     "output_type": "stream",
     "text": [
      "\u001b[1m49/49\u001b[0m \u001b[32m━━━━━━━━━━━━━━━━━━━━\u001b[0m\u001b[37m\u001b[0m \u001b[1m12s\u001b[0m 239ms/step - accuracy: 0.9694 - loss: 0.2726 - precision_1: 0.9559 - recall_1: 0.9821 - val_accuracy: 0.9795 - val_loss: 0.2497 - val_precision_1: 0.9893 - val_recall_1: 0.9686 - learning_rate: 2.0000e-04\n",
      "Epoch 25/50\n",
      "\u001b[1m49/49\u001b[0m \u001b[32m━━━━━━━━━━━━━━━━━━━━\u001b[0m\u001b[37m\u001b[0m \u001b[1m0s\u001b[0m 225ms/step - accuracy: 0.9754 - loss: 0.2322 - precision_1: 0.9832 - recall_1: 0.9683\n",
      "Epoch 25: val_loss did not improve from 0.24971\n",
      "\u001b[1m49/49\u001b[0m \u001b[32m━━━━━━━━━━━━━━━━━━━━\u001b[0m\u001b[37m\u001b[0m \u001b[1m12s\u001b[0m 242ms/step - accuracy: 0.9754 - loss: 0.2322 - precision_1: 0.9830 - recall_1: 0.9684 - val_accuracy: 0.9692 - val_loss: 0.2522 - val_precision_1: 0.9838 - val_recall_1: 0.9529 - learning_rate: 2.0000e-04\n",
      "Epoch 26/50\n",
      "\u001b[1m49/49\u001b[0m \u001b[32m━━━━━━━━━━━━━━━━━━━━\u001b[0m\u001b[37m\u001b[0m \u001b[1m0s\u001b[0m 215ms/step - accuracy: 0.9833 - loss: 0.2105 - precision_1: 0.9870 - recall_1: 0.9785\n",
      "Epoch 26: val_loss improved from 0.24971 to 0.23444, saving model to D:\\Projects\\Forest_Fire_Detection\\training_output\\best_model.h5\n"
     ]
    },
    {
     "name": "stderr",
     "output_type": "stream",
     "text": [
      "WARNING:absl:You are saving your model as an HDF5 file via `model.save()` or `keras.saving.save_model(model)`. This file format is considered legacy. We recommend using instead the native Keras format, e.g. `model.save('my_model.keras')` or `keras.saving.save_model(model, 'my_model.keras')`. \n"
     ]
    },
    {
     "name": "stdout",
     "output_type": "stream",
     "text": [
      "\u001b[1m49/49\u001b[0m \u001b[32m━━━━━━━━━━━━━━━━━━━━\u001b[0m\u001b[37m\u001b[0m \u001b[1m11s\u001b[0m 228ms/step - accuracy: 0.9833 - loss: 0.2105 - precision_1: 0.9869 - recall_1: 0.9786 - val_accuracy: 0.9769 - val_loss: 0.2344 - val_precision_1: 0.9892 - val_recall_1: 0.9634 - learning_rate: 2.0000e-04\n",
      "Epoch 27/50\n",
      "\u001b[1m49/49\u001b[0m \u001b[32m━━━━━━━━━━━━━━━━━━━━\u001b[0m\u001b[37m\u001b[0m \u001b[1m0s\u001b[0m 191ms/step - accuracy: 0.9915 - loss: 0.1936 - precision_1: 0.9891 - recall_1: 0.9940\n",
      "Epoch 27: val_loss improved from 0.23444 to 0.21677, saving model to D:\\Projects\\Forest_Fire_Detection\\training_output\\best_model.h5\n"
     ]
    },
    {
     "name": "stderr",
     "output_type": "stream",
     "text": [
      "WARNING:absl:You are saving your model as an HDF5 file via `model.save()` or `keras.saving.save_model(model)`. This file format is considered legacy. We recommend using instead the native Keras format, e.g. `model.save('my_model.keras')` or `keras.saving.save_model(model, 'my_model.keras')`. \n"
     ]
    },
    {
     "name": "stdout",
     "output_type": "stream",
     "text": [
      "\u001b[1m49/49\u001b[0m \u001b[32m━━━━━━━━━━━━━━━━━━━━\u001b[0m\u001b[37m\u001b[0m \u001b[1m10s\u001b[0m 206ms/step - accuracy: 0.9915 - loss: 0.1937 - precision_1: 0.9891 - recall_1: 0.9940 - val_accuracy: 0.9795 - val_loss: 0.2168 - val_precision_1: 0.9893 - val_recall_1: 0.9686 - learning_rate: 2.0000e-04\n",
      "Epoch 28/50\n",
      "\u001b[1m49/49\u001b[0m \u001b[32m━━━━━━━━━━━━━━━━━━━━\u001b[0m\u001b[37m\u001b[0m \u001b[1m0s\u001b[0m 214ms/step - accuracy: 0.9937 - loss: 0.1864 - precision_1: 0.9920 - recall_1: 0.9952\n",
      "Epoch 28: val_loss improved from 0.21677 to 0.21337, saving model to D:\\Projects\\Forest_Fire_Detection\\training_output\\best_model.h5\n"
     ]
    },
    {
     "name": "stderr",
     "output_type": "stream",
     "text": [
      "WARNING:absl:You are saving your model as an HDF5 file via `model.save()` or `keras.saving.save_model(model)`. This file format is considered legacy. We recommend using instead the native Keras format, e.g. `model.save('my_model.keras')` or `keras.saving.save_model(model, 'my_model.keras')`. \n"
     ]
    },
    {
     "name": "stdout",
     "output_type": "stream",
     "text": [
      "\u001b[1m49/49\u001b[0m \u001b[32m━━━━━━━━━━━━━━━━━━━━\u001b[0m\u001b[37m\u001b[0m \u001b[1m11s\u001b[0m 232ms/step - accuracy: 0.9937 - loss: 0.1865 - precision_1: 0.9920 - recall_1: 0.9951 - val_accuracy: 0.9821 - val_loss: 0.2134 - val_precision_1: 0.9946 - val_recall_1: 0.9686 - learning_rate: 2.0000e-04\n",
      "Epoch 29/50\n",
      "\u001b[1m49/49\u001b[0m \u001b[32m━━━━━━━━━━━━━━━━━━━━\u001b[0m\u001b[37m\u001b[0m \u001b[1m0s\u001b[0m 197ms/step - accuracy: 0.9925 - loss: 0.1778 - precision_1: 0.9867 - recall_1: 0.9978\n",
      "Epoch 29: val_loss improved from 0.21337 to 0.20658, saving model to D:\\Projects\\Forest_Fire_Detection\\training_output\\best_model.h5\n"
     ]
    },
    {
     "name": "stderr",
     "output_type": "stream",
     "text": [
      "WARNING:absl:You are saving your model as an HDF5 file via `model.save()` or `keras.saving.save_model(model)`. This file format is considered legacy. We recommend using instead the native Keras format, e.g. `model.save('my_model.keras')` or `keras.saving.save_model(model, 'my_model.keras')`. \n"
     ]
    },
    {
     "name": "stdout",
     "output_type": "stream",
     "text": [
      "\u001b[1m49/49\u001b[0m \u001b[32m━━━━━━━━━━━━━━━━━━━━\u001b[0m\u001b[37m\u001b[0m \u001b[1m10s\u001b[0m 212ms/step - accuracy: 0.9925 - loss: 0.1779 - precision_1: 0.9868 - recall_1: 0.9977 - val_accuracy: 0.9846 - val_loss: 0.2066 - val_precision_1: 0.9947 - val_recall_1: 0.9738 - learning_rate: 2.0000e-04\n",
      "Epoch 30/50\n",
      "\u001b[1m49/49\u001b[0m \u001b[32m━━━━━━━━━━━━━━━━━━━━\u001b[0m\u001b[37m\u001b[0m \u001b[1m0s\u001b[0m 211ms/step - accuracy: 0.9896 - loss: 0.1833 - precision_1: 0.9891 - recall_1: 0.9898\n",
      "Epoch 30: val_loss improved from 0.20658 to 0.20452, saving model to D:\\Projects\\Forest_Fire_Detection\\training_output\\best_model.h5\n"
     ]
    },
    {
     "name": "stderr",
     "output_type": "stream",
     "text": [
      "WARNING:absl:You are saving your model as an HDF5 file via `model.save()` or `keras.saving.save_model(model)`. This file format is considered legacy. We recommend using instead the native Keras format, e.g. `model.save('my_model.keras')` or `keras.saving.save_model(model, 'my_model.keras')`. \n"
     ]
    },
    {
     "name": "stdout",
     "output_type": "stream",
     "text": [
      "\u001b[1m49/49\u001b[0m \u001b[32m━━━━━━━━━━━━━━━━━━━━\u001b[0m\u001b[37m\u001b[0m \u001b[1m11s\u001b[0m 228ms/step - accuracy: 0.9896 - loss: 0.1831 - precision_1: 0.9891 - recall_1: 0.9898 - val_accuracy: 0.9821 - val_loss: 0.2045 - val_precision_1: 0.9894 - val_recall_1: 0.9738 - learning_rate: 2.0000e-04\n",
      "Epoch 31/50\n",
      "\u001b[1m49/49\u001b[0m \u001b[32m━━━━━━━━━━━━━━━━━━━━\u001b[0m\u001b[37m\u001b[0m \u001b[1m0s\u001b[0m 219ms/step - accuracy: 0.9902 - loss: 0.1677 - precision_1: 0.9908 - recall_1: 0.9892\n",
      "Epoch 31: val_loss did not improve from 0.20452\n",
      "\u001b[1m49/49\u001b[0m \u001b[32m━━━━━━━━━━━━━━━━━━━━\u001b[0m\u001b[37m\u001b[0m \u001b[1m12s\u001b[0m 234ms/step - accuracy: 0.9901 - loss: 0.1678 - precision_1: 0.9908 - recall_1: 0.9891 - val_accuracy: 0.9769 - val_loss: 0.2100 - val_precision_1: 0.9892 - val_recall_1: 0.9634 - learning_rate: 2.0000e-04\n",
      "Epoch 32/50\n",
      "\u001b[1m49/49\u001b[0m \u001b[32m━━━━━━━━━━━━━━━━━━━━\u001b[0m\u001b[37m\u001b[0m \u001b[1m0s\u001b[0m 222ms/step - accuracy: 0.9957 - loss: 0.1532 - precision_1: 0.9948 - recall_1: 0.9963\n",
      "Epoch 32: val_loss improved from 0.20452 to 0.18667, saving model to D:\\Projects\\Forest_Fire_Detection\\training_output\\best_model.h5\n"
     ]
    },
    {
     "name": "stderr",
     "output_type": "stream",
     "text": [
      "WARNING:absl:You are saving your model as an HDF5 file via `model.save()` or `keras.saving.save_model(model)`. This file format is considered legacy. We recommend using instead the native Keras format, e.g. `model.save('my_model.keras')` or `keras.saving.save_model(model, 'my_model.keras')`. \n"
     ]
    },
    {
     "name": "stdout",
     "output_type": "stream",
     "text": [
      "\u001b[1m49/49\u001b[0m \u001b[32m━━━━━━━━━━━━━━━━━━━━\u001b[0m\u001b[37m\u001b[0m \u001b[1m12s\u001b[0m 242ms/step - accuracy: 0.9956 - loss: 0.1534 - precision_1: 0.9947 - recall_1: 0.9962 - val_accuracy: 0.9795 - val_loss: 0.1867 - val_precision_1: 0.9893 - val_recall_1: 0.9686 - learning_rate: 2.0000e-04\n",
      "Epoch 33/50\n",
      "\u001b[1m49/49\u001b[0m \u001b[32m━━━━━━━━━━━━━━━━━━━━\u001b[0m\u001b[37m\u001b[0m \u001b[1m0s\u001b[0m 228ms/step - accuracy: 0.9901 - loss: 0.1585 - precision_1: 0.9852 - recall_1: 0.9940\n",
      "Epoch 33: val_loss improved from 0.18667 to 0.18503, saving model to D:\\Projects\\Forest_Fire_Detection\\training_output\\best_model.h5\n"
     ]
    },
    {
     "name": "stderr",
     "output_type": "stream",
     "text": [
      "WARNING:absl:You are saving your model as an HDF5 file via `model.save()` or `keras.saving.save_model(model)`. This file format is considered legacy. We recommend using instead the native Keras format, e.g. `model.save('my_model.keras')` or `keras.saving.save_model(model, 'my_model.keras')`. \n"
     ]
    },
    {
     "name": "stdout",
     "output_type": "stream",
     "text": [
      "\u001b[1m49/49\u001b[0m \u001b[32m━━━━━━━━━━━━━━━━━━━━\u001b[0m\u001b[37m\u001b[0m \u001b[1m12s\u001b[0m 254ms/step - accuracy: 0.9901 - loss: 0.1585 - precision_1: 0.9852 - recall_1: 0.9940 - val_accuracy: 0.9821 - val_loss: 0.1850 - val_precision_1: 0.9894 - val_recall_1: 0.9738 - learning_rate: 2.0000e-04\n",
      "Epoch 34/50\n",
      "\u001b[1m49/49\u001b[0m \u001b[32m━━━━━━━━━━━━━━━━━━━━\u001b[0m\u001b[37m\u001b[0m \u001b[1m0s\u001b[0m 214ms/step - accuracy: 0.9954 - loss: 0.1545 - precision_1: 0.9975 - recall_1: 0.9933\n",
      "Epoch 34: val_loss improved from 0.18503 to 0.16776, saving model to D:\\Projects\\Forest_Fire_Detection\\training_output\\best_model.h5\n"
     ]
    },
    {
     "name": "stderr",
     "output_type": "stream",
     "text": [
      "WARNING:absl:You are saving your model as an HDF5 file via `model.save()` or `keras.saving.save_model(model)`. This file format is considered legacy. We recommend using instead the native Keras format, e.g. `model.save('my_model.keras')` or `keras.saving.save_model(model, 'my_model.keras')`. \n"
     ]
    },
    {
     "name": "stdout",
     "output_type": "stream",
     "text": [
      "\u001b[1m49/49\u001b[0m \u001b[32m━━━━━━━━━━━━━━━━━━━━\u001b[0m\u001b[37m\u001b[0m \u001b[1m12s\u001b[0m 230ms/step - accuracy: 0.9953 - loss: 0.1545 - precision_1: 0.9973 - recall_1: 0.9933 - val_accuracy: 0.9872 - val_loss: 0.1678 - val_precision_1: 0.9895 - val_recall_1: 0.9843 - learning_rate: 2.0000e-04\n",
      "Epoch 35/50\n",
      "\u001b[1m49/49\u001b[0m \u001b[32m━━━━━━━━━━━━━━━━━━━━\u001b[0m\u001b[37m\u001b[0m \u001b[1m0s\u001b[0m 221ms/step - accuracy: 0.9927 - loss: 0.1465 - precision_1: 0.9931 - recall_1: 0.9922\n",
      "Epoch 35: val_loss did not improve from 0.16776\n",
      "\u001b[1m49/49\u001b[0m \u001b[32m━━━━━━━━━━━━━━━━━━━━\u001b[0m\u001b[37m\u001b[0m \u001b[1m12s\u001b[0m 235ms/step - accuracy: 0.9927 - loss: 0.1465 - precision_1: 0.9930 - recall_1: 0.9922 - val_accuracy: 0.9795 - val_loss: 0.1802 - val_precision_1: 0.9893 - val_recall_1: 0.9686 - learning_rate: 2.0000e-04\n",
      "Epoch 36/50\n",
      "\u001b[1m49/49\u001b[0m \u001b[32m━━━━━━━━━━━━━━━━━━━━\u001b[0m\u001b[37m\u001b[0m \u001b[1m0s\u001b[0m 216ms/step - accuracy: 0.9933 - loss: 0.1398 - precision_1: 0.9901 - recall_1: 0.9966\n",
      "Epoch 36: val_loss did not improve from 0.16776\n",
      "\u001b[1m49/49\u001b[0m \u001b[32m━━━━━━━━━━━━━━━━━━━━\u001b[0m\u001b[37m\u001b[0m \u001b[1m11s\u001b[0m 230ms/step - accuracy: 0.9933 - loss: 0.1398 - precision_1: 0.9901 - recall_1: 0.9965 - val_accuracy: 0.9872 - val_loss: 0.1734 - val_precision_1: 0.9895 - val_recall_1: 0.9843 - learning_rate: 2.0000e-04\n",
      "Epoch 37/50\n",
      "\u001b[1m49/49\u001b[0m \u001b[32m━━━━━━━━━━━━━━━━━━━━\u001b[0m\u001b[37m\u001b[0m \u001b[1m0s\u001b[0m 278ms/step - accuracy: 0.9934 - loss: 0.1394 - precision_1: 0.9959 - recall_1: 0.9902\n",
      "Epoch 37: val_loss improved from 0.16776 to 0.16262, saving model to D:\\Projects\\Forest_Fire_Detection\\training_output\\best_model.h5\n"
     ]
    },
    {
     "name": "stderr",
     "output_type": "stream",
     "text": [
      "WARNING:absl:You are saving your model as an HDF5 file via `model.save()` or `keras.saving.save_model(model)`. This file format is considered legacy. We recommend using instead the native Keras format, e.g. `model.save('my_model.keras')` or `keras.saving.save_model(model, 'my_model.keras')`. \n"
     ]
    },
    {
     "name": "stdout",
     "output_type": "stream",
     "text": [
      "\u001b[1m49/49\u001b[0m \u001b[32m━━━━━━━━━━━━━━━━━━━━\u001b[0m\u001b[37m\u001b[0m \u001b[1m17s\u001b[0m 345ms/step - accuracy: 0.9933 - loss: 0.1396 - precision_1: 0.9958 - recall_1: 0.9901 - val_accuracy: 0.9872 - val_loss: 0.1626 - val_precision_1: 0.9895 - val_recall_1: 0.9843 - learning_rate: 2.0000e-04\n",
      "Epoch 38/50\n",
      "\u001b[1m49/49\u001b[0m \u001b[32m━━━━━━━━━━━━━━━━━━━━\u001b[0m\u001b[37m\u001b[0m \u001b[1m0s\u001b[0m 368ms/step - accuracy: 0.9936 - loss: 0.1442 - precision_1: 0.9916 - recall_1: 0.9953\n",
      "Epoch 38: val_loss did not improve from 0.16262\n",
      "\u001b[1m49/49\u001b[0m \u001b[32m━━━━━━━━━━━━━━━━━━━━\u001b[0m\u001b[37m\u001b[0m \u001b[1m21s\u001b[0m 428ms/step - accuracy: 0.9935 - loss: 0.1443 - precision_1: 0.9916 - recall_1: 0.9952 - val_accuracy: 0.9769 - val_loss: 0.1689 - val_precision_1: 0.9789 - val_recall_1: 0.9738 - learning_rate: 2.0000e-04\n",
      "Epoch 39/50\n",
      "\u001b[1m49/49\u001b[0m \u001b[32m━━━━━━━━━━━━━━━━━━━━\u001b[0m\u001b[37m\u001b[0m \u001b[1m0s\u001b[0m 359ms/step - accuracy: 0.9864 - loss: 0.1459 - precision_1: 0.9840 - recall_1: 0.9868\n",
      "Epoch 39: val_loss did not improve from 0.16262\n",
      "\u001b[1m49/49\u001b[0m \u001b[32m━━━━━━━━━━━━━━━━━━━━\u001b[0m\u001b[37m\u001b[0m \u001b[1m20s\u001b[0m 401ms/step - accuracy: 0.9865 - loss: 0.1458 - precision_1: 0.9842 - recall_1: 0.9869 - val_accuracy: 0.9821 - val_loss: 0.1756 - val_precision_1: 0.9842 - val_recall_1: 0.9791 - learning_rate: 2.0000e-04\n",
      "Epoch 40/50\n",
      "\u001b[1m49/49\u001b[0m \u001b[32m━━━━━━━━━━━━━━━━━━━━\u001b[0m\u001b[37m\u001b[0m \u001b[1m0s\u001b[0m 554ms/step - accuracy: 0.9940 - loss: 0.1318 - precision_1: 0.9923 - recall_1: 0.9956\n",
      "Epoch 40: val_loss did not improve from 0.16262\n",
      "\n",
      "Epoch 40: ReduceLROnPlateau reducing learning rate to 4.0000001899898055e-05.\n",
      "\u001b[1m49/49\u001b[0m \u001b[32m━━━━━━━━━━━━━━━━━━━━\u001b[0m\u001b[37m\u001b[0m \u001b[1m30s\u001b[0m 613ms/step - accuracy: 0.9940 - loss: 0.1319 - precision_1: 0.9921 - recall_1: 0.9956 - val_accuracy: 0.9846 - val_loss: 0.1714 - val_precision_1: 0.9894 - val_recall_1: 0.9791 - learning_rate: 2.0000e-04\n",
      "Epoch 41/50\n",
      "\u001b[1m49/49\u001b[0m \u001b[32m━━━━━━━━━━━━━━━━━━━━\u001b[0m\u001b[37m\u001b[0m \u001b[1m0s\u001b[0m 350ms/step - accuracy: 0.9942 - loss: 0.1314 - precision_1: 0.9973 - recall_1: 0.9912\n",
      "Epoch 41: val_loss improved from 0.16262 to 0.16166, saving model to D:\\Projects\\Forest_Fire_Detection\\training_output\\best_model.h5\n"
     ]
    },
    {
     "name": "stderr",
     "output_type": "stream",
     "text": [
      "WARNING:absl:You are saving your model as an HDF5 file via `model.save()` or `keras.saving.save_model(model)`. This file format is considered legacy. We recommend using instead the native Keras format, e.g. `model.save('my_model.keras')` or `keras.saving.save_model(model, 'my_model.keras')`. \n"
     ]
    },
    {
     "name": "stdout",
     "output_type": "stream",
     "text": [
      "\u001b[1m49/49\u001b[0m \u001b[32m━━━━━━━━━━━━━━━━━━━━\u001b[0m\u001b[37m\u001b[0m \u001b[1m20s\u001b[0m 394ms/step - accuracy: 0.9943 - loss: 0.1314 - precision_1: 0.9974 - recall_1: 0.9912 - val_accuracy: 0.9872 - val_loss: 0.1617 - val_precision_1: 0.9895 - val_recall_1: 0.9843 - learning_rate: 4.0000e-05\n",
      "Epoch 42/50\n",
      "\u001b[1m49/49\u001b[0m \u001b[32m━━━━━━━━━━━━━━━━━━━━\u001b[0m\u001b[37m\u001b[0m \u001b[1m0s\u001b[0m 292ms/step - accuracy: 0.9895 - loss: 0.1306 - precision_1: 0.9876 - recall_1: 0.9910\n",
      "Epoch 42: val_loss did not improve from 0.16166\n",
      "\u001b[1m49/49\u001b[0m \u001b[32m━━━━━━━━━━━━━━━━━━━━\u001b[0m\u001b[37m\u001b[0m \u001b[1m16s\u001b[0m 307ms/step - accuracy: 0.9896 - loss: 0.1305 - precision_1: 0.9877 - recall_1: 0.9911 - val_accuracy: 0.9846 - val_loss: 0.1682 - val_precision_1: 0.9894 - val_recall_1: 0.9791 - learning_rate: 4.0000e-05\n",
      "Epoch 43/50\n",
      "\u001b[1m49/49\u001b[0m \u001b[32m━━━━━━━━━━━━━━━━━━━━\u001b[0m\u001b[37m\u001b[0m \u001b[1m0s\u001b[0m 225ms/step - accuracy: 0.9928 - loss: 0.1300 - precision_1: 0.9933 - recall_1: 0.9920\n",
      "Epoch 43: val_loss did not improve from 0.16166\n",
      "\u001b[1m49/49\u001b[0m \u001b[32m━━━━━━━━━━━━━━━━━━━━\u001b[0m\u001b[37m\u001b[0m \u001b[1m12s\u001b[0m 241ms/step - accuracy: 0.9929 - loss: 0.1300 - precision_1: 0.9933 - recall_1: 0.9920 - val_accuracy: 0.9846 - val_loss: 0.1650 - val_precision_1: 0.9894 - val_recall_1: 0.9791 - learning_rate: 4.0000e-05\n",
      "Epoch 44/50\n",
      "\u001b[1m49/49\u001b[0m \u001b[32m━━━━━━━━━━━━━━━━━━━━\u001b[0m\u001b[37m\u001b[0m \u001b[1m0s\u001b[0m 244ms/step - accuracy: 0.9961 - loss: 0.1276 - precision_1: 0.9946 - recall_1: 0.9975\n",
      "Epoch 44: val_loss did not improve from 0.16166\n",
      "\n",
      "Epoch 44: ReduceLROnPlateau reducing learning rate to 8.000000525498762e-06.\n",
      "\u001b[1m49/49\u001b[0m \u001b[32m━━━━━━━━━━━━━━━━━━━━\u001b[0m\u001b[37m\u001b[0m \u001b[1m13s\u001b[0m 260ms/step - accuracy: 0.9960 - loss: 0.1276 - precision_1: 0.9946 - recall_1: 0.9975 - val_accuracy: 0.9846 - val_loss: 0.1685 - val_precision_1: 0.9894 - val_recall_1: 0.9791 - learning_rate: 4.0000e-05\n",
      "Epoch 45/50\n",
      "\u001b[1m49/49\u001b[0m \u001b[32m━━━━━━━━━━━━━━━━━━━━\u001b[0m\u001b[37m\u001b[0m \u001b[1m0s\u001b[0m 227ms/step - accuracy: 0.9980 - loss: 0.1187 - precision_1: 0.9975 - recall_1: 0.9986\n",
      "Epoch 45: val_loss did not improve from 0.16166\n",
      "\u001b[1m49/49\u001b[0m \u001b[32m━━━━━━━━━━━━━━━━━━━━\u001b[0m\u001b[37m\u001b[0m \u001b[1m12s\u001b[0m 251ms/step - accuracy: 0.9980 - loss: 0.1187 - precision_1: 0.9975 - recall_1: 0.9986 - val_accuracy: 0.9821 - val_loss: 0.1685 - val_precision_1: 0.9842 - val_recall_1: 0.9791 - learning_rate: 8.0000e-06\n",
      "Epoch 46/50\n",
      "\u001b[1m49/49\u001b[0m \u001b[32m━━━━━━━━━━━━━━━━━━━━\u001b[0m\u001b[37m\u001b[0m \u001b[1m0s\u001b[0m 221ms/step - accuracy: 0.9964 - loss: 0.1210 - precision_1: 0.9965 - recall_1: 0.9962\n",
      "Epoch 46: val_loss did not improve from 0.16166\n",
      "\u001b[1m49/49\u001b[0m \u001b[32m━━━━━━━━━━━━━━━━━━━━\u001b[0m\u001b[37m\u001b[0m \u001b[1m12s\u001b[0m 240ms/step - accuracy: 0.9964 - loss: 0.1210 - precision_1: 0.9964 - recall_1: 0.9962 - val_accuracy: 0.9821 - val_loss: 0.1692 - val_precision_1: 0.9894 - val_recall_1: 0.9738 - learning_rate: 8.0000e-06\n",
      "Epoch 46: early stopping\n",
      "Restoring model weights from the end of the best epoch: 41.\n"
     ]
    }
   ],
   "source": [
    "print(\"\\nStarting training...\")\n",
    "history = model.fit(\n",
    "    train_generator,\n",
    "    validation_data=val_generator,\n",
    "    epochs=EPOCHS,\n",
    "    callbacks=callbacks,\n",
    "    class_weight=class_weights\n",
    ")"
   ]
  },
  {
   "cell_type": "code",
   "execution_count": 44,
   "id": "065dbfe0",
   "metadata": {},
   "outputs": [
    {
     "data": {
      "image/png": "[encoded data removed]",
      "text/plain": [
       "<Figure size 1200x500 with 2 Axes>"
      ]
     },
     "metadata": {},
     "output_type": "display_data"
    }
   ],
   "source": [
    "plt.figure(figsize=(12, 5))\n",
    "plt.subplot(1, 2, 1)\n",
    "plt.plot(history.history['accuracy'], label='Training Accuracy')\n",
    "plt.plot(history.history['val_accuracy'], label='Validation Accuracy')\n",
    "plt.title('Accuracy Over Epochs')\n",
    "plt.legend()\n",
    "\n",
    "plt.subplot(1, 2, 2)\n",
    "plt.plot(history.history['loss'], label='Training Loss')\n",
    "plt.plot(history.history['val_loss'], label='Validation Loss')\n",
    "plt.title('Loss Over Epochs')\n",
    "plt.legend()\n",
    "plt.savefig(os.path.join(output_dir, 'training_history.png'))\n",
    "plt.show()"
   ]
  },
  {
   "cell_type": "code",
   "execution_count": 45,
   "id": "244e84fb",
   "metadata": {},
   "outputs": [
    {
     "name": "stdout",
     "output_type": "stream",
     "text": [
      "\n",
      "Evaluating model...\n",
      "\u001b[1m13/13\u001b[0m \u001b[32m━━━━━━━━━━━━━━━━━━━━\u001b[0m\u001b[37m\u001b[0m \u001b[1m1s\u001b[0m 63ms/step\n"
     ]
    },
    {
     "data": {
      "image/png": "[encoded data removed]",
      "text/plain": [
       "<Figure size 600x600 with 2 Axes>"
      ]
     },
     "metadata": {},
     "output_type": "display_data"
    },
    {
     "name": "stdout",
     "output_type": "stream",
     "text": [
      "\n",
      "Classification Report:\n",
      "              precision    recall  f1-score   support\n",
      "\n",
      "     No Fire       0.98      0.99      0.99       199\n",
      "        Fire       0.99      0.98      0.99       191\n",
      "\n",
      "    accuracy                           0.99       390\n",
      "   macro avg       0.99      0.99      0.99       390\n",
      "weighted avg       0.99      0.99      0.99       390\n",
      "\n"
     ]
    }
   ],
   "source": [
    "print(\"\\nEvaluating model...\")\n",
    "y_pred = (model.predict(X_val) > 0.5).astype(int)\n",
    "cm = confusion_matrix(y_val, y_pred)\n",
    "\n",
    "plt.figure(figsize=(6, 6))\n",
    "sns.heatmap(cm, annot=True, fmt='d', cmap='Blues',\n",
    "            xticklabels=['No Fire', 'Fire'],\n",
    "            yticklabels=['No Fire', 'Fire'])\n",
    "plt.title('Confusion Matrix')\n",
    "plt.savefig(os.path.join(output_dir, 'confusion_matrix.png'))\n",
    "plt.show()\n",
    "\n",
    "print(\"\\nClassification Report:\")\n",
    "print(classification_report(y_val, y_pred, target_names=['No Fire', 'Fire']))"
   ]
  },
  {
   "cell_type": "code",
   "execution_count": 46,
   "id": "a65caff5",
   "metadata": {},
   "outputs": [
    {
     "name": "stdout",
     "output_type": "stream",
     "text": [
      "\n",
      "Converting to TFLite...\n",
      "INFO:tensorflow:Assets written to: C:\\Users\\Aashish\\AppData\\Local\\Temp\\tmpsgj1ts2p\\assets\n"
     ]
    },
    {
     "name": "stderr",
     "output_type": "stream",
     "text": [
      "INFO:tensorflow:Assets written to: C:\\Users\\Aashish\\AppData\\Local\\Temp\\tmpsgj1ts2p\\assets\n"
     ]
    },
    {
     "name": "stdout",
     "output_type": "stream",
     "text": [
      "Saved artifact at 'C:\\Users\\Aashish\\AppData\\Local\\Temp\\tmpsgj1ts2p'. The following endpoints are available:\n",
      "\n",
      "* Endpoint 'serve'\n",
      "  args_0 (POSITIONAL_ONLY): TensorSpec(shape=(None, 96, 96, 3), dtype=tf.float32, name='keras_tensor_14')\n",
      "Output Type:\n",
      "  TensorSpec(shape=(None, 1), dtype=tf.float32, name=None)\n",
      "Captures:\n",
      "  2817150564496: TensorSpec(shape=(), dtype=tf.resource, name=None)\n",
      "  2817150561616: TensorSpec(shape=(), dtype=tf.resource, name=None)\n",
      "  2817202184720: TensorSpec(shape=(), dtype=tf.resource, name=None)\n",
      "  2817202191248: TensorSpec(shape=(), dtype=tf.resource, name=None)\n",
      "  2817150560272: TensorSpec(shape=(), dtype=tf.resource, name=None)\n",
      "  2817150558736: TensorSpec(shape=(), dtype=tf.resource, name=None)\n",
      "  2817202191824: TensorSpec(shape=(), dtype=tf.resource, name=None)\n",
      "  2817202192208: TensorSpec(shape=(), dtype=tf.resource, name=None)\n",
      "  2817202189904: TensorSpec(shape=(), dtype=tf.resource, name=None)\n",
      "  2817202189712: TensorSpec(shape=(), dtype=tf.resource, name=None)\n",
      "  2817202190864: TensorSpec(shape=(), dtype=tf.resource, name=None)\n",
      "  2817202191056: TensorSpec(shape=(), dtype=tf.resource, name=None)\n",
      "  2817202191632: TensorSpec(shape=(), dtype=tf.resource, name=None)\n",
      "  2817202184528: TensorSpec(shape=(), dtype=tf.resource, name=None)\n",
      "  2817202191440: TensorSpec(shape=(), dtype=tf.resource, name=None)\n",
      "  2817202188560: TensorSpec(shape=(), dtype=tf.resource, name=None)\n",
      "  2817202188752: TensorSpec(shape=(), dtype=tf.resource, name=None)\n",
      "  2817202190096: TensorSpec(shape=(), dtype=tf.resource, name=None)\n",
      "  2817202188176: TensorSpec(shape=(), dtype=tf.resource, name=None)\n",
      "  2817202188368: TensorSpec(shape=(), dtype=tf.resource, name=None)\n",
      "  2817202190288: TensorSpec(shape=(), dtype=tf.resource, name=None)\n",
      "  2817202189520: TensorSpec(shape=(), dtype=tf.resource, name=None)\n"
     ]
    },
    {
     "name": "stderr",
     "output_type": "stream",
     "text": [
      "d:\\Projects\\Forest_Fire_Detection\\myenv\\Lib\\site-packages\\tensorflow\\lite\\python\\convert.py:854: UserWarning: Statistics for quantized inputs were expected, but not specified; continuing anyway.\n",
      "  warnings.warn(\n"
     ]
    }
   ],
   "source": [
    "print(\"\\nConverting to TFLite...\")\n",
    "\n",
    "\n",
    "def representative_dataset():\n",
    "    for i in range(100):\n",
    "        yield [X_train[i:i+1].astype(np.float32)]\n",
    "\n",
    "\n",
    "converter = tf.lite.TFLiteConverter.from_keras_model(model)\n",
    "converter.optimizations = [tf.lite.Optimize.DEFAULT]\n",
    "converter.target_spec.supported_types = [tf.int8]\n",
    "converter.inference_input_type = tf.int8\n",
    "converter.inference_output_type = tf.int8\n",
    "converter.representative_dataset = representative_dataset\n",
    "\n",
    "tflite_model = converter.convert()"
   ]
  },
  {
   "cell_type": "code",
   "execution_count": 47,
   "id": "b13260a2",
   "metadata": {},
   "outputs": [
    {
     "name": "stdout",
     "output_type": "stream",
     "text": [
      "\n",
      "Model size: 159.09 KB\n",
      "Training complete. All outputs saved to: D:\\Projects\\Forest_Fire_Detection\\training_output\n"
     ]
    }
   ],
   "source": [
    "tflite_path = os.path.join(output_dir, \"fire_detection_tinyml.tflite\")\n",
    "with open(tflite_path, \"wb\") as f:\n",
    "    f.write(tflite_model)\n",
    "\n",
    "print(f\"\\nModel size: {len(tflite_model)/1024:.2f} KB\")\n",
    "print(f\"Training complete. All outputs saved to: {output_dir}\")"
   ]
  }
 ],
 "metadata": {
  "kernelspec": {
   "display_name": "myenv",
   "language": "python",
   "name": "python3"
  },
  "language_info": {
   "codemirror_mode": {
    "name": "ipython",
    "version": 3
   },
   "file_extension": ".py",
   "mimetype": "text/x-python",
   "name": "python",
   "nbconvert_exporter": "python",
   "pygments_lexer": "ipython3",
   "version": "3.11.9"
  }
 },
 "nbformat": 4,
 "nbformat_minor": 5
}
